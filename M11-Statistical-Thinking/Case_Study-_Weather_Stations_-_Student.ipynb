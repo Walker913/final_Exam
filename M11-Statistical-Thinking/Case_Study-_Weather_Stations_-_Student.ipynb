{
 "cells": [
  {
   "cell_type": "code",
   "execution_count": 1,
   "id": "afdf03e2",
   "metadata": {},
   "outputs": [],
   "source": [
    "import pandas as pd\n",
    "import numpy as np\n",
    "import matplotlib.pyplot as plt\n",
    "import seaborn as sns\n",
    "import warnings\n",
    "warnings.filterwarnings(\"ignore\")"
   ]
  },
  {
   "cell_type": "code",
   "execution_count": 6,
   "id": "d2b69453",
   "metadata": {},
   "outputs": [
    {
     "name": "stdout",
     "output_type": "stream",
     "text": [
      "(1048575, 21)\n"
     ]
    },
    {
     "data": {
      "text/html": [
       "<div>\n",
       "<style scoped>\n",
       "    .dataframe tbody tr th:only-of-type {\n",
       "        vertical-align: middle;\n",
       "    }\n",
       "\n",
       "    .dataframe tbody tr th {\n",
       "        vertical-align: top;\n",
       "    }\n",
       "\n",
       "    .dataframe thead th {\n",
       "        text-align: right;\n",
       "    }\n",
       "</style>\n",
       "<table border=\"1\" class=\"dataframe\">\n",
       "  <thead>\n",
       "    <tr style=\"text-align: right;\">\n",
       "      <th></th>\n",
       "      <th>USMER</th>\n",
       "      <th>MEDICAL_UNIT</th>\n",
       "      <th>SEX</th>\n",
       "      <th>PATIENT_TYPE</th>\n",
       "      <th>DATE_DIED</th>\n",
       "      <th>INTUBED</th>\n",
       "      <th>PNEUMONIA</th>\n",
       "      <th>AGE</th>\n",
       "      <th>PREGNANT</th>\n",
       "      <th>DIABETES</th>\n",
       "      <th>...</th>\n",
       "      <th>ASTHMA</th>\n",
       "      <th>INMSUPR</th>\n",
       "      <th>HIPERTENSION</th>\n",
       "      <th>OTHER_DISEASE</th>\n",
       "      <th>CARDIOVASCULAR</th>\n",
       "      <th>OBESITY</th>\n",
       "      <th>RENAL_CHRONIC</th>\n",
       "      <th>TOBACCO</th>\n",
       "      <th>CLASIFFICATION_FINAL</th>\n",
       "      <th>ICU</th>\n",
       "    </tr>\n",
       "  </thead>\n",
       "  <tbody>\n",
       "    <tr>\n",
       "      <th>0</th>\n",
       "      <td>2</td>\n",
       "      <td>1</td>\n",
       "      <td>1</td>\n",
       "      <td>1</td>\n",
       "      <td>03/05/2020</td>\n",
       "      <td>97</td>\n",
       "      <td>1</td>\n",
       "      <td>65</td>\n",
       "      <td>2</td>\n",
       "      <td>2</td>\n",
       "      <td>...</td>\n",
       "      <td>2</td>\n",
       "      <td>2</td>\n",
       "      <td>1</td>\n",
       "      <td>2</td>\n",
       "      <td>2</td>\n",
       "      <td>2</td>\n",
       "      <td>2</td>\n",
       "      <td>2</td>\n",
       "      <td>3</td>\n",
       "      <td>97</td>\n",
       "    </tr>\n",
       "    <tr>\n",
       "      <th>1</th>\n",
       "      <td>2</td>\n",
       "      <td>1</td>\n",
       "      <td>2</td>\n",
       "      <td>1</td>\n",
       "      <td>03/06/2020</td>\n",
       "      <td>97</td>\n",
       "      <td>1</td>\n",
       "      <td>72</td>\n",
       "      <td>97</td>\n",
       "      <td>2</td>\n",
       "      <td>...</td>\n",
       "      <td>2</td>\n",
       "      <td>2</td>\n",
       "      <td>1</td>\n",
       "      <td>2</td>\n",
       "      <td>2</td>\n",
       "      <td>1</td>\n",
       "      <td>1</td>\n",
       "      <td>2</td>\n",
       "      <td>5</td>\n",
       "      <td>97</td>\n",
       "    </tr>\n",
       "    <tr>\n",
       "      <th>2</th>\n",
       "      <td>2</td>\n",
       "      <td>1</td>\n",
       "      <td>2</td>\n",
       "      <td>2</td>\n",
       "      <td>09/06/2020</td>\n",
       "      <td>1</td>\n",
       "      <td>2</td>\n",
       "      <td>55</td>\n",
       "      <td>97</td>\n",
       "      <td>1</td>\n",
       "      <td>...</td>\n",
       "      <td>2</td>\n",
       "      <td>2</td>\n",
       "      <td>2</td>\n",
       "      <td>2</td>\n",
       "      <td>2</td>\n",
       "      <td>2</td>\n",
       "      <td>2</td>\n",
       "      <td>2</td>\n",
       "      <td>3</td>\n",
       "      <td>2</td>\n",
       "    </tr>\n",
       "    <tr>\n",
       "      <th>3</th>\n",
       "      <td>2</td>\n",
       "      <td>1</td>\n",
       "      <td>1</td>\n",
       "      <td>1</td>\n",
       "      <td>12/06/2020</td>\n",
       "      <td>97</td>\n",
       "      <td>2</td>\n",
       "      <td>53</td>\n",
       "      <td>2</td>\n",
       "      <td>2</td>\n",
       "      <td>...</td>\n",
       "      <td>2</td>\n",
       "      <td>2</td>\n",
       "      <td>2</td>\n",
       "      <td>2</td>\n",
       "      <td>2</td>\n",
       "      <td>2</td>\n",
       "      <td>2</td>\n",
       "      <td>2</td>\n",
       "      <td>7</td>\n",
       "      <td>97</td>\n",
       "    </tr>\n",
       "    <tr>\n",
       "      <th>4</th>\n",
       "      <td>2</td>\n",
       "      <td>1</td>\n",
       "      <td>2</td>\n",
       "      <td>1</td>\n",
       "      <td>21/06/2020</td>\n",
       "      <td>97</td>\n",
       "      <td>2</td>\n",
       "      <td>68</td>\n",
       "      <td>97</td>\n",
       "      <td>1</td>\n",
       "      <td>...</td>\n",
       "      <td>2</td>\n",
       "      <td>2</td>\n",
       "      <td>1</td>\n",
       "      <td>2</td>\n",
       "      <td>2</td>\n",
       "      <td>2</td>\n",
       "      <td>2</td>\n",
       "      <td>2</td>\n",
       "      <td>3</td>\n",
       "      <td>97</td>\n",
       "    </tr>\n",
       "  </tbody>\n",
       "</table>\n",
       "<p>5 rows × 21 columns</p>\n",
       "</div>"
      ],
      "text/plain": [
       "   USMER  MEDICAL_UNIT  SEX  PATIENT_TYPE   DATE_DIED  INTUBED  PNEUMONIA  \\\n",
       "0      2             1    1             1  03/05/2020       97          1   \n",
       "1      2             1    2             1  03/06/2020       97          1   \n",
       "2      2             1    2             2  09/06/2020        1          2   \n",
       "3      2             1    1             1  12/06/2020       97          2   \n",
       "4      2             1    2             1  21/06/2020       97          2   \n",
       "\n",
       "   AGE  PREGNANT  DIABETES  ...  ASTHMA  INMSUPR  HIPERTENSION  OTHER_DISEASE  \\\n",
       "0   65         2         2  ...       2        2             1              2   \n",
       "1   72        97         2  ...       2        2             1              2   \n",
       "2   55        97         1  ...       2        2             2              2   \n",
       "3   53         2         2  ...       2        2             2              2   \n",
       "4   68        97         1  ...       2        2             1              2   \n",
       "\n",
       "   CARDIOVASCULAR  OBESITY  RENAL_CHRONIC  TOBACCO  CLASIFFICATION_FINAL  ICU  \n",
       "0               2        2              2        2                     3   97  \n",
       "1               2        1              1        2                     5   97  \n",
       "2               2        2              2        2                     3    2  \n",
       "3               2        2              2        2                     7   97  \n",
       "4               2        2              2        2                     3   97  \n",
       "\n",
       "[5 rows x 21 columns]"
      ]
     },
     "execution_count": 6,
     "metadata": {},
     "output_type": "execute_result"
    }
   ],
   "source": [
    "df = pd.read_csv(\"Data/Covid Data.csv\")\n",
    "print(df.shape)\n",
    "df.head()\n",
    "#df.info()\n"
   ]
  },
  {
   "cell_type": "code",
   "execution_count": 9,
   "id": "ca949767",
   "metadata": {},
   "outputs": [
    {
     "name": "stdout",
     "output_type": "stream",
     "text": [
      "1    848544\n",
      "2    200031\n",
      "Name: PATIENT_TYPE, dtype: int64\n",
      "9999-99-99    971633\n",
      "06/07/2020      1000\n",
      "07/07/2020       996\n",
      "13/07/2020       990\n",
      "16/06/2020       979\n",
      "               ...  \n",
      "24/11/2020         1\n",
      "17/12/2020         1\n",
      "08/12/2020         1\n",
      "16/03/2021         1\n",
      "22/04/2021         1\n",
      "Name: DATE_DIED, Length: 401, dtype: int64\n",
      "97    848544\n",
      "2     159050\n",
      "1      33656\n",
      "99      7325\n",
      "Name: INTUBED, dtype: int64\n",
      "2     892534\n",
      "1     140038\n",
      "99     16003\n",
      "Name: PNEUMONIA, dtype: int64\n",
      "30     27010\n",
      "31     25927\n",
      "28     25313\n",
      "29     25134\n",
      "34     24872\n",
      "       ...  \n",
      "114        2\n",
      "116        2\n",
      "111        1\n",
      "121        1\n",
      "113        1\n",
      "Name: AGE, Length: 121, dtype: int64\n"
     ]
    }
   ],
   "source": [
    "# get a sense of what values are in the entire dataset. In the description on Kaggle it says that 1 means 'yes' and 2 means 'no', but as you can see there\n",
    "# are some missing and misinput information so I need to get rid of those that don't belong like the values '97' and '99'.\n",
    "print(df.PATIENT_TYPE.value_counts())\n",
    "print(df.DATE_DIED.value_counts())\n",
    "print(df.INTUBED.value_counts())\n",
    "print(df.PNEUMONIA.value_counts())\n",
    "print(df.AGE.value_counts())\n",
    "\n",
    "\n",
    "\n"
   ]
  },
  {
   "cell_type": "code",
   "execution_count": 18,
   "id": "c7b84873",
   "metadata": {},
   "outputs": [],
   "source": [
    "# in order to make sure that values 97 and 99 are not mixed into any of the variables, each variable must be a dataframe consisting of either\n",
    "# a 1 for 'yes' or a 2 for 'no'.\n",
    "\n",
    "df = df[(df.PNEUMONIA == 1) | (df.PNEUMONIA == 2)]\n",
    "df = df[(df.DIABETES == 1) | (df.DIABETES == 2)]\n",
    "df = df[(df.OTHER_DISEASE == 1) | (df.OTHER_DISEASE == 2)]\n",
    "df = df[(df.CARDIOVASCULAR == 1) | (df.CARDIOVASCULAR == 2)]\n",
    "df = df[(df.OBESITY == 1) | (df.OBESITY == 2)]\n",
    "df = df[(df.RENAL_CHRONIC == 1) | (df.RENAL_CHRONIC == 2)]\n",
    "df = df[(df.TOBACCO == 1) | (df.TOBACCO == 2)]\n",
    "df = df[(df.COPD == 1) | (df.COPD == 2)]\n",
    "df = df[(df.ASTHMA == 1) | (df.ASTHMA == 2)]\n",
    "df = df[(df.INMSUPR == 1) | (df.INMSUPR == 2)]\n",
    "df = df[(df.HIPERTENSION == 1) | (df.HIPERTENSION == 2)]\n",
    "df = df[(df.PREGNANT == 1) | (df.PREGNANT == 2)]\n"
   ]
  },
  {
   "cell_type": "code",
   "execution_count": null,
   "id": "3f6e227a",
   "metadata": {},
   "outputs": [],
   "source": [
    "# There are 21 different variables and over a million rows of data. In order to build\n",
    "# a model that tries to predict a patients risk level, I need to determine what\n",
    "# what variable are associated with high risk and those associatde with low risk.\n",
    "\n",
    "# I want to focus on only variable that have high impact on risk. I also want to have an emphasis on looking into\n",
    "# what the conditions were for somebody who died and what similiarites those people shared.\n",
    "# Simply because death means that those patients were obviously very high risk since they unfortunately passed away.\n",
    "\n",
    "# I will be looking to use a binary classification type of supervised learning since we are\n",
    "# trying to label a patient as high or low risk based on their info available.\n",
    "\n",
    "# Before starting I'm gonna meet the requirements of supervised learning with scikit-learn\n",
    "# since we used it in the past and had a data camp covering it, \n",
    "# specifically will start by removing missing values, having data in numeric format, \n",
    "# and have the data stored in a dataframe like I started above.\n",
    "\n",
    "#I'm now going to make graphs for different variables against an is dead variable that I will make below this to\n",
    "# try and figure out the most important variables."
   ]
  },
  {
   "cell_type": "code",
   "execution_count": 31,
   "id": "aae8d921",
   "metadata": {},
   "outputs": [
    {
     "name": "stdout",
     "output_type": "stream",
     "text": [
      "9999-99-99    483471\n",
      "07/07/2020       377\n",
      "16/07/2020       367\n",
      "06/07/2020       363\n",
      "12/06/2020       359\n",
      "               ...  \n",
      "20/01/2020         1\n",
      "15/04/2021         1\n",
      "11/09/2020         1\n",
      "30/03/2021         1\n",
      "01/04/2021         1\n",
      "Name: DATE_DIED, Length: 305, dtype: int64\n"
     ]
    }
   ],
   "source": [
    "df.head()\n",
    "print(df.DATE_DIED.value_counts())\n",
    "\n",
    "# important to note that 9999-99-99 must mean that patient is still alive since it is not a real date while all the others are real dates.\n",
    "# Set dead people to 1 for yes they are dead, or to 2 for no still alive.\n",
    "df[\"DEAD\"] = [2 if each==\"9999-99-99\" else 1 for each in df.DATE_DIED]"
   ]
  },
  {
   "cell_type": "code",
   "execution_count": 32,
   "id": "107034e7",
   "metadata": {},
   "outputs": [
    {
     "data": {
      "text/plain": [
       "Text(0.5, 1.0, 'Is pregnant vs Is Dead')"
      ]
     },
     "execution_count": 32,
     "metadata": {},
     "output_type": "execute_result"
    },
    {
     "data": {
      "image/png": "[encoded data removed]",
      "text/plain": [
       "<Figure size 432x288 with 1 Axes>"
      ]
     },
     "metadata": {
      "needs_background": "light"
     },
     "output_type": "display_data"
    }
   ],
   "source": [
    "plt.figure()\n",
    "ax = sns.countplot(df.DEAD, hue = df.PREGNANT)\n",
    "for bars in ax.containers:\n",
    "    ax.bar_label(bars)\n",
    "plt.title(\"Is pregnant vs Is Dead\",color=\"BLACK\")"
   ]
  },
  {
   "cell_type": "code",
   "execution_count": 24,
   "id": "f2cdc185",
   "metadata": {},
   "outputs": [
    {
     "name": "stdout",
     "output_type": "stream",
     "text": [
      "chance of death while pregnant: 0.010828928709552663\n",
      "chance of death when not pregnant: 0.05567630971550133\n",
      "conclusion: pregnancy alone doesn't affect death risk\n"
     ]
    },
    {
     "data": {
      "text/html": [
       "<div>\n",
       "<style scoped>\n",
       "    .dataframe tbody tr th:only-of-type {\n",
       "        vertical-align: middle;\n",
       "    }\n",
       "\n",
       "    .dataframe tbody tr th {\n",
       "        vertical-align: top;\n",
       "    }\n",
       "\n",
       "    .dataframe thead th {\n",
       "        text-align: right;\n",
       "    }\n",
       "</style>\n",
       "<table border=\"1\" class=\"dataframe\">\n",
       "  <thead>\n",
       "    <tr style=\"text-align: right;\">\n",
       "      <th></th>\n",
       "      <th>USMER</th>\n",
       "      <th>MEDICAL_UNIT</th>\n",
       "      <th>SEX</th>\n",
       "      <th>PATIENT_TYPE</th>\n",
       "      <th>DATE_DIED</th>\n",
       "      <th>INTUBED</th>\n",
       "      <th>PNEUMONIA</th>\n",
       "      <th>AGE</th>\n",
       "      <th>PREGNANT</th>\n",
       "      <th>DIABETES</th>\n",
       "      <th>...</th>\n",
       "      <th>INMSUPR</th>\n",
       "      <th>HIPERTENSION</th>\n",
       "      <th>OTHER_DISEASE</th>\n",
       "      <th>CARDIOVASCULAR</th>\n",
       "      <th>OBESITY</th>\n",
       "      <th>RENAL_CHRONIC</th>\n",
       "      <th>TOBACCO</th>\n",
       "      <th>CLASIFFICATION_FINAL</th>\n",
       "      <th>ICU</th>\n",
       "      <th>DEAD</th>\n",
       "    </tr>\n",
       "  </thead>\n",
       "  <tbody>\n",
       "    <tr>\n",
       "      <th>0</th>\n",
       "      <td>2</td>\n",
       "      <td>1</td>\n",
       "      <td>1</td>\n",
       "      <td>1</td>\n",
       "      <td>03/05/2020</td>\n",
       "      <td>97</td>\n",
       "      <td>1</td>\n",
       "      <td>65</td>\n",
       "      <td>2</td>\n",
       "      <td>2</td>\n",
       "      <td>...</td>\n",
       "      <td>2</td>\n",
       "      <td>1</td>\n",
       "      <td>2</td>\n",
       "      <td>2</td>\n",
       "      <td>2</td>\n",
       "      <td>2</td>\n",
       "      <td>2</td>\n",
       "      <td>3</td>\n",
       "      <td>97</td>\n",
       "      <td>2</td>\n",
       "    </tr>\n",
       "    <tr>\n",
       "      <th>3</th>\n",
       "      <td>2</td>\n",
       "      <td>1</td>\n",
       "      <td>1</td>\n",
       "      <td>1</td>\n",
       "      <td>12/06/2020</td>\n",
       "      <td>97</td>\n",
       "      <td>2</td>\n",
       "      <td>53</td>\n",
       "      <td>2</td>\n",
       "      <td>2</td>\n",
       "      <td>...</td>\n",
       "      <td>2</td>\n",
       "      <td>2</td>\n",
       "      <td>2</td>\n",
       "      <td>2</td>\n",
       "      <td>2</td>\n",
       "      <td>2</td>\n",
       "      <td>2</td>\n",
       "      <td>7</td>\n",
       "      <td>97</td>\n",
       "      <td>2</td>\n",
       "    </tr>\n",
       "    <tr>\n",
       "      <th>5</th>\n",
       "      <td>2</td>\n",
       "      <td>1</td>\n",
       "      <td>1</td>\n",
       "      <td>2</td>\n",
       "      <td>9999-99-99</td>\n",
       "      <td>2</td>\n",
       "      <td>1</td>\n",
       "      <td>40</td>\n",
       "      <td>2</td>\n",
       "      <td>2</td>\n",
       "      <td>...</td>\n",
       "      <td>2</td>\n",
       "      <td>2</td>\n",
       "      <td>2</td>\n",
       "      <td>2</td>\n",
       "      <td>2</td>\n",
       "      <td>2</td>\n",
       "      <td>2</td>\n",
       "      <td>3</td>\n",
       "      <td>2</td>\n",
       "      <td>1</td>\n",
       "    </tr>\n",
       "    <tr>\n",
       "      <th>6</th>\n",
       "      <td>2</td>\n",
       "      <td>1</td>\n",
       "      <td>1</td>\n",
       "      <td>1</td>\n",
       "      <td>9999-99-99</td>\n",
       "      <td>97</td>\n",
       "      <td>2</td>\n",
       "      <td>64</td>\n",
       "      <td>2</td>\n",
       "      <td>2</td>\n",
       "      <td>...</td>\n",
       "      <td>2</td>\n",
       "      <td>2</td>\n",
       "      <td>2</td>\n",
       "      <td>2</td>\n",
       "      <td>2</td>\n",
       "      <td>2</td>\n",
       "      <td>2</td>\n",
       "      <td>3</td>\n",
       "      <td>97</td>\n",
       "      <td>1</td>\n",
       "    </tr>\n",
       "    <tr>\n",
       "      <th>7</th>\n",
       "      <td>2</td>\n",
       "      <td>1</td>\n",
       "      <td>1</td>\n",
       "      <td>1</td>\n",
       "      <td>9999-99-99</td>\n",
       "      <td>97</td>\n",
       "      <td>1</td>\n",
       "      <td>64</td>\n",
       "      <td>2</td>\n",
       "      <td>1</td>\n",
       "      <td>...</td>\n",
       "      <td>1</td>\n",
       "      <td>1</td>\n",
       "      <td>2</td>\n",
       "      <td>2</td>\n",
       "      <td>2</td>\n",
       "      <td>1</td>\n",
       "      <td>2</td>\n",
       "      <td>3</td>\n",
       "      <td>97</td>\n",
       "      <td>1</td>\n",
       "    </tr>\n",
       "  </tbody>\n",
       "</table>\n",
       "<p>5 rows × 22 columns</p>\n",
       "</div>"
      ],
      "text/plain": [
       "   USMER  MEDICAL_UNIT  SEX  PATIENT_TYPE   DATE_DIED  INTUBED  PNEUMONIA  \\\n",
       "0      2             1    1             1  03/05/2020       97          1   \n",
       "3      2             1    1             1  12/06/2020       97          2   \n",
       "5      2             1    1             2  9999-99-99        2          1   \n",
       "6      2             1    1             1  9999-99-99       97          2   \n",
       "7      2             1    1             1  9999-99-99       97          1   \n",
       "\n",
       "   AGE  PREGNANT  DIABETES  ...  INMSUPR  HIPERTENSION  OTHER_DISEASE  \\\n",
       "0   65         2         2  ...        2             1              2   \n",
       "3   53         2         2  ...        2             2              2   \n",
       "5   40         2         2  ...        2             2              2   \n",
       "6   64         2         2  ...        2             2              2   \n",
       "7   64         2         1  ...        1             1              2   \n",
       "\n",
       "   CARDIOVASCULAR  OBESITY  RENAL_CHRONIC  TOBACCO  CLASIFFICATION_FINAL  ICU  \\\n",
       "0               2        2              2        2                     3   97   \n",
       "3               2        2              2        2                     7   97   \n",
       "5               2        2              2        2                     3    2   \n",
       "6               2        2              2        2                     3   97   \n",
       "7               2        2              1        2                     3   97   \n",
       "\n",
       "   DEAD  \n",
       "0     2  \n",
       "3     2  \n",
       "5     1  \n",
       "6     1  \n",
       "7     1  \n",
       "\n",
       "[5 rows x 22 columns]"
      ]
     },
     "execution_count": 24,
     "metadata": {},
     "output_type": "execute_result"
    }
   ],
   "source": [
    "# I was curious if being pregnant with covid increased your chance of death so I made a graph.\n",
    "preg = 84/7757\n",
    "not_preg = 26486/475714\n",
    "print(\"chance of death while pregnant:\",preg)\n",
    "print(\"chance of death when not pregnant:\",not_preg)\n",
    "\n",
    "print(\"conclusion: pregnancy alone doesn't affect death risk\")\n",
    "\n",
    "\n",
    "df.head()"
   ]
  },
  {
   "cell_type": "code",
   "execution_count": 33,
   "id": "dafc210d",
   "metadata": {},
   "outputs": [
    {
     "data": {
      "text/plain": [
       "Text(0.5, 1.0, 'Has Diabetes vs Is Dead')"
      ]
     },
     "execution_count": 33,
     "metadata": {},
     "output_type": "execute_result"
    },
    {
     "data": {
      "image/png": "[encoded data removed]",
      "text/plain": [
       "<Figure size 432x288 with 1 Axes>"
      ]
     },
     "metadata": {
      "needs_background": "light"
     },
     "output_type": "display_data"
    }
   ],
   "source": [
    "plt.figure()\n",
    "ax = sns.countplot(df.DEAD, hue = df.DIABETES)\n",
    "for bars in ax.containers:\n",
    "    ax.bar_label(bars)\n",
    "plt.title(\"Has Diabetes vs Is Dead\",color=\"BLACK\")"
   ]
  },
  {
   "cell_type": "code",
   "execution_count": 34,
   "id": "98994fe0",
   "metadata": {},
   "outputs": [
    {
     "name": "stdout",
     "output_type": "stream",
     "text": [
      "chance of death wwith diabetes: 0.2358027527726143\n",
      "chance of death without having diabetes: 0.03507869749674007\n",
      "conclusion: pregnancy alone doesn't affect death risk\n"
     ]
    }
   ],
   "source": [
    "# I was curious if having just diabetes with covid increased your chance of death so I made a graph.\n",
    "has_diab = 11290/47879\n",
    "not_diab = 15280/435592\n",
    "print(\"chance of death wwith diabetes:\",has_diab)\n",
    "print(\"chance of death without having diabetes:\",not_diab)\n",
    "\n",
    "print(\"conclusion: diabetes alone greatly affects death risk vs those without diabetes. It is safe to assume the OBESITY variable will be similiar.\")"
   ]
  },
  {
   "cell_type": "code",
   "execution_count": 36,
   "id": "24ae8731",
   "metadata": {},
   "outputs": [
    {
     "data": {
      "text/plain": [
       "Text(0.5, 1.0, 'Age vs Is Dead')"
      ]
     },
     "execution_count": 36,
     "metadata": {},
     "output_type": "execute_result"
    },
    {
     "data": {
      "image/png": "[encoded data removed]",
      "text/plain": [
       "<Figure size 432x288 with 1 Axes>"
      ]
     },
     "metadata": {
      "needs_background": "light"
     },
     "output_type": "display_data"
    }
   ],
   "source": [
    "plt.figure()\n",
    "ax = sns.countplot(df.DEAD, hue = df.AGE)\n",
    "for bars in ax.containers:\n",
    "    ax.bar_label(bars)\n",
    "plt.title(\"Age vs Is Dead\",color=\"BLACK\")"
   ]
  },
  {
   "cell_type": "code",
   "execution_count": 37,
   "id": "2f7833c0",
   "metadata": {},
   "outputs": [
    {
     "data": {
      "text/html": [
       "<div>\n",
       "<style scoped>\n",
       "    .dataframe tbody tr th:only-of-type {\n",
       "        vertical-align: middle;\n",
       "    }\n",
       "\n",
       "    .dataframe tbody tr th {\n",
       "        vertical-align: top;\n",
       "    }\n",
       "\n",
       "    .dataframe thead th {\n",
       "        text-align: right;\n",
       "    }\n",
       "</style>\n",
       "<table border=\"1\" class=\"dataframe\">\n",
       "  <thead>\n",
       "    <tr style=\"text-align: right;\">\n",
       "      <th></th>\n",
       "      <th>USMER</th>\n",
       "      <th>MEDICAL_UNIT</th>\n",
       "      <th>SEX</th>\n",
       "      <th>PATIENT_TYPE</th>\n",
       "      <th>DATE_DIED</th>\n",
       "      <th>INTUBED</th>\n",
       "      <th>PNEUMONIA</th>\n",
       "      <th>AGE</th>\n",
       "      <th>PREGNANT</th>\n",
       "      <th>DIABETES</th>\n",
       "      <th>...</th>\n",
       "      <th>INMSUPR</th>\n",
       "      <th>HIPERTENSION</th>\n",
       "      <th>OTHER_DISEASE</th>\n",
       "      <th>CARDIOVASCULAR</th>\n",
       "      <th>OBESITY</th>\n",
       "      <th>RENAL_CHRONIC</th>\n",
       "      <th>TOBACCO</th>\n",
       "      <th>CLASIFFICATION_FINAL</th>\n",
       "      <th>ICU</th>\n",
       "      <th>DEAD</th>\n",
       "    </tr>\n",
       "  </thead>\n",
       "  <tbody>\n",
       "    <tr>\n",
       "      <th>0</th>\n",
       "      <td>2</td>\n",
       "      <td>1</td>\n",
       "      <td>1</td>\n",
       "      <td>1</td>\n",
       "      <td>03/05/2020</td>\n",
       "      <td>97</td>\n",
       "      <td>1</td>\n",
       "      <td>65</td>\n",
       "      <td>2</td>\n",
       "      <td>2</td>\n",
       "      <td>...</td>\n",
       "      <td>2</td>\n",
       "      <td>1</td>\n",
       "      <td>2</td>\n",
       "      <td>2</td>\n",
       "      <td>2</td>\n",
       "      <td>2</td>\n",
       "      <td>2</td>\n",
       "      <td>3</td>\n",
       "      <td>97</td>\n",
       "      <td>1</td>\n",
       "    </tr>\n",
       "    <tr>\n",
       "      <th>3</th>\n",
       "      <td>2</td>\n",
       "      <td>1</td>\n",
       "      <td>1</td>\n",
       "      <td>1</td>\n",
       "      <td>12/06/2020</td>\n",
       "      <td>97</td>\n",
       "      <td>2</td>\n",
       "      <td>53</td>\n",
       "      <td>2</td>\n",
       "      <td>2</td>\n",
       "      <td>...</td>\n",
       "      <td>2</td>\n",
       "      <td>2</td>\n",
       "      <td>2</td>\n",
       "      <td>2</td>\n",
       "      <td>2</td>\n",
       "      <td>2</td>\n",
       "      <td>2</td>\n",
       "      <td>7</td>\n",
       "      <td>97</td>\n",
       "      <td>1</td>\n",
       "    </tr>\n",
       "    <tr>\n",
       "      <th>5</th>\n",
       "      <td>2</td>\n",
       "      <td>1</td>\n",
       "      <td>1</td>\n",
       "      <td>2</td>\n",
       "      <td>9999-99-99</td>\n",
       "      <td>2</td>\n",
       "      <td>1</td>\n",
       "      <td>40</td>\n",
       "      <td>2</td>\n",
       "      <td>2</td>\n",
       "      <td>...</td>\n",
       "      <td>2</td>\n",
       "      <td>2</td>\n",
       "      <td>2</td>\n",
       "      <td>2</td>\n",
       "      <td>2</td>\n",
       "      <td>2</td>\n",
       "      <td>2</td>\n",
       "      <td>3</td>\n",
       "      <td>2</td>\n",
       "      <td>2</td>\n",
       "    </tr>\n",
       "    <tr>\n",
       "      <th>6</th>\n",
       "      <td>2</td>\n",
       "      <td>1</td>\n",
       "      <td>1</td>\n",
       "      <td>1</td>\n",
       "      <td>9999-99-99</td>\n",
       "      <td>97</td>\n",
       "      <td>2</td>\n",
       "      <td>64</td>\n",
       "      <td>2</td>\n",
       "      <td>2</td>\n",
       "      <td>...</td>\n",
       "      <td>2</td>\n",
       "      <td>2</td>\n",
       "      <td>2</td>\n",
       "      <td>2</td>\n",
       "      <td>2</td>\n",
       "      <td>2</td>\n",
       "      <td>2</td>\n",
       "      <td>3</td>\n",
       "      <td>97</td>\n",
       "      <td>2</td>\n",
       "    </tr>\n",
       "    <tr>\n",
       "      <th>7</th>\n",
       "      <td>2</td>\n",
       "      <td>1</td>\n",
       "      <td>1</td>\n",
       "      <td>1</td>\n",
       "      <td>9999-99-99</td>\n",
       "      <td>97</td>\n",
       "      <td>1</td>\n",
       "      <td>64</td>\n",
       "      <td>2</td>\n",
       "      <td>1</td>\n",
       "      <td>...</td>\n",
       "      <td>1</td>\n",
       "      <td>1</td>\n",
       "      <td>2</td>\n",
       "      <td>2</td>\n",
       "      <td>2</td>\n",
       "      <td>1</td>\n",
       "      <td>2</td>\n",
       "      <td>3</td>\n",
       "      <td>97</td>\n",
       "      <td>2</td>\n",
       "    </tr>\n",
       "  </tbody>\n",
       "</table>\n",
       "<p>5 rows × 22 columns</p>\n",
       "</div>"
      ],
      "text/plain": [
       "   USMER  MEDICAL_UNIT  SEX  PATIENT_TYPE   DATE_DIED  INTUBED  PNEUMONIA  \\\n",
       "0      2             1    1             1  03/05/2020       97          1   \n",
       "3      2             1    1             1  12/06/2020       97          2   \n",
       "5      2             1    1             2  9999-99-99        2          1   \n",
       "6      2             1    1             1  9999-99-99       97          2   \n",
       "7      2             1    1             1  9999-99-99       97          1   \n",
       "\n",
       "   AGE  PREGNANT  DIABETES  ...  INMSUPR  HIPERTENSION  OTHER_DISEASE  \\\n",
       "0   65         2         2  ...        2             1              2   \n",
       "3   53         2         2  ...        2             2              2   \n",
       "5   40         2         2  ...        2             2              2   \n",
       "6   64         2         2  ...        2             2              2   \n",
       "7   64         2         1  ...        1             1              2   \n",
       "\n",
       "   CARDIOVASCULAR  OBESITY  RENAL_CHRONIC  TOBACCO  CLASIFFICATION_FINAL  ICU  \\\n",
       "0               2        2              2        2                     3   97   \n",
       "3               2        2              2        2                     7   97   \n",
       "5               2        2              2        2                     3    2   \n",
       "6               2        2              2        2                     3   97   \n",
       "7               2        2              1        2                     3   97   \n",
       "\n",
       "   DEAD  \n",
       "0     1  \n",
       "3     1  \n",
       "5     2  \n",
       "6     2  \n",
       "7     2  \n",
       "\n",
       "[5 rows x 22 columns]"
      ]
     },
     "execution_count": 37,
     "metadata": {},
     "output_type": "execute_result"
    }
   ],
   "source": [
    "#In the graph above I couldn't get the legend to increment by a smaller age amount for the gradient legend but the graph still shows that the blue/turqiouse\n",
    "# age range (65-75) above the 1 column for the dead x-axis has the highest death count.\n",
    "df.head()"
   ]
  },
  {
   "cell_type": "code",
   "execution_count": 39,
   "id": "c94482c9",
   "metadata": {},
   "outputs": [
    {
     "data": {
      "text/plain": [
       "Text(0.5, 1.0, 'Other Disease vs Is Dead')"
      ]
     },
     "execution_count": 39,
     "metadata": {},
     "output_type": "execute_result"
    },
    {
     "data": {
      "image/png": "[encoded data removed]",
      "text/plain": [
       "<Figure size 432x288 with 1 Axes>"
      ]
     },
     "metadata": {
      "needs_background": "light"
     },
     "output_type": "display_data"
    }
   ],
   "source": [
    "plt.figure()\n",
    "ax = sns.countplot(df.DEAD, hue = df.OTHER_DISEASE)\n",
    "for bars in ax.containers:\n",
    "    ax.bar_label(bars)\n",
    "plt.title(\"Other Disease vs Is Dead\",color=\"BLACK\")"
   ]
  },
  {
   "cell_type": "code",
   "execution_count": 40,
   "id": "be9a9e9e",
   "metadata": {},
   "outputs": [
    {
     "name": "stdout",
     "output_type": "stream",
     "text": [
      "chance of death wwith diabetes: 0.14071169638233336\n",
      "chance of death without having diabetes: 0.05249024372598169\n",
      "conclusion: diabetes alone greatly affects death risk vs those without diabetes. It is safe to assume the OBESITY variable will be similiar.\n"
     ]
    }
   ],
   "source": [
    "has_dis = 1902/13517\n",
    "not_dis = 24668/469954\n",
    "print(\"chance of death wwith other disease:\",has_dis)\n",
    "print(\"chance of death without having other disease:\",not_dis)\n",
    "\n",
    "print(\"conclusion: Having another disease alone greatly affects death risk vs those without another disease.\")"
   ]
  },
  {
   "cell_type": "code",
   "execution_count": 45,
   "id": "dfbd5908",
   "metadata": {},
   "outputs": [
    {
     "data": {
      "text/plain": [
       "Text(0.5, 1.0, 'Tobacco Use vs Is Dead')"
      ]
     },
     "execution_count": 45,
     "metadata": {},
     "output_type": "execute_result"
    },
    {
     "data": {
      "image/png": "[encoded data removed]",
      "text/plain": [
       "<Figure size 432x288 with 1 Axes>"
      ]
     },
     "metadata": {
      "needs_background": "light"
     },
     "output_type": "display_data"
    }
   ],
   "source": [
    "plt.figure()\n",
    "ax = sns.countplot(df.DEAD, hue = df.TOBACCO)\n",
    "for bars in ax.containers:\n",
    "    ax.bar_label(bars)\n",
    "plt.title(\"Tobacco Use vs Is Dead\",color=\"BLACK\")"
   ]
  },
  {
   "cell_type": "code",
   "execution_count": 46,
   "id": "33b51fee",
   "metadata": {},
   "outputs": [
    {
     "name": "stdout",
     "output_type": "stream",
     "text": [
      "chance of death with tobacco user: 0.041952649032158555\n",
      "chance of death with non tobacco user: 0.05569385645313931\n",
      "conclusion: Being a tobacco User doesn't alone greatly affect death risk vs those who aren't tobacco users.\n"
     ]
    }
   ],
   "source": [
    "has_tob = 1088/25934\n",
    "not_tob = 25482/457537\n",
    "print(\"chance of death with tobacco user:\",has_tob)\n",
    "print(\"chance of death with non tobacco user:\",not_tob)\n",
    "\n",
    "print(\"conclusion: Being a tobacco User doesn't alone greatly affect death risk vs those who aren't tobacco users.\")"
   ]
  },
  {
   "cell_type": "code",
   "execution_count": 49,
   "id": "eb62d0d8",
   "metadata": {},
   "outputs": [
    {
     "data": {
      "text/plain": [
       "Text(0.5, 1.0, 'Has Ventilator vs Is Dead')"
      ]
     },
     "execution_count": 49,
     "metadata": {},
     "output_type": "execute_result"
    },
    {
     "data": {
      "image/png": "[encoded data removed]",
      "text/plain": [
       "<Figure size 432x288 with 1 Axes>"
      ]
     },
     "metadata": {
      "needs_background": "light"
     },
     "output_type": "display_data"
    }
   ],
   "source": [
    "df = df[(df.INTUBED == 1) | (df.INTUBED == 2)]\n",
    "\n",
    "plt.figure()\n",
    "ax = sns.countplot(df.DEAD, hue = df.INTUBED)\n",
    "for bars in ax.containers:\n",
    "    ax.bar_label(bars)\n",
    "plt.title(\"Has Ventilator vs Is Dead\",color=\"BLACK\")"
   ]
  },
  {
   "cell_type": "code",
   "execution_count": null,
   "id": "b2d61cb9",
   "metadata": {},
   "outputs": [],
   "source": [
    "# This finding is very important. For patients who were connected to a ventilator at some point, they were more likely to die than to survive."
   ]
  },
  {
   "cell_type": "code",
   "execution_count": 51,
   "id": "2f02d4ca",
   "metadata": {},
   "outputs": [
    {
     "data": {
      "text/plain": [
       "Text(0.5, 1.0, 'Has Pneumonia vs Is Dead')"
      ]
     },
     "execution_count": 51,
     "metadata": {},
     "output_type": "execute_result"
    },
    {
     "data": {
      "image/png": "[encoded data removed]",
      "text/plain": [
       "<Figure size 432x288 with 1 Axes>"
      ]
     },
     "metadata": {
      "needs_background": "light"
     },
     "output_type": "display_data"
    }
   ],
   "source": [
    "plt.figure()\n",
    "ax = sns.countplot(df.DEAD, hue = df.PNEUMONIA)\n",
    "for bars in ax.containers:\n",
    "    ax.bar_label(bars)\n",
    "plt.title(\"Has Pneumonia vs Is Dead\",color=\"BLACK\")"
   ]
  },
  {
   "cell_type": "code",
   "execution_count": 52,
   "id": "6271d061",
   "metadata": {},
   "outputs": [
    {
     "name": "stdout",
     "output_type": "stream",
     "text": [
      "chance of death with person with pnuemonia: 0.6503834674524916\n",
      "chance of death with person without pnuemonia: 0.250065866235086\n",
      "conclusion: Being a tobacco User doesn't alone greatly affect death risk vs those who aren't tobacco users.\n"
     ]
    }
   ],
   "source": [
    "has_nom = 17215/26469\n",
    "not_nom = 6644/26569\n",
    "print(\"chance of death with person with pnuemonia:\",has_nom)\n",
    "print(\"chance of death with person without pnuemonia:\",not_nom)\n",
    "\n",
    "print(\"conclusion: Having pnuemonia significantly increases chance of death vs those who don't have it.\")"
   ]
  },
  {
   "cell_type": "code",
   "execution_count": 57,
   "id": "c513e111",
   "metadata": {},
   "outputs": [
    {
     "data": {
      "text/plain": [
       "Text(0.5, 1.0, 'Has Chronic obstructive pulmonary disease vs Is Dead')"
      ]
     },
     "execution_count": 57,
     "metadata": {},
     "output_type": "execute_result"
    },
    {
     "data": {
      "image/png": "[encoded data removed]",
      "text/plain": [
       "<Figure size 432x288 with 1 Axes>"
      ]
     },
     "metadata": {
      "needs_background": "light"
     },
     "output_type": "display_data"
    }
   ],
   "source": [
    "plt.figure()\n",
    "ax = sns.countplot(df.DEAD, hue = df.COPD)\n",
    "for bars in ax.containers:\n",
    "    ax.bar_label(bars)\n",
    "plt.title(\"Has Chronic obstructive pulmonary disease vs Is Dead\",color=\"BLACK\")"
   ]
  },
  {
   "cell_type": "code",
   "execution_count": null,
   "id": "29343f95",
   "metadata": {},
   "outputs": [],
   "source": [
    "# Will include"
   ]
  },
  {
   "cell_type": "code",
   "execution_count": 60,
   "id": "44a1e6fc",
   "metadata": {},
   "outputs": [
    {
     "data": {
      "text/plain": [
       "Text(0.5, 1.0, 'Is Immunosuppressed vs Is Dead')"
      ]
     },
     "execution_count": 60,
     "metadata": {},
     "output_type": "execute_result"
    },
    {
     "data": {
      "image/png": "[encoded data removed]",
      "text/plain": [
       "<Figure size 432x288 with 1 Axes>"
      ]
     },
     "metadata": {
      "needs_background": "light"
     },
     "output_type": "display_data"
    }
   ],
   "source": [
    "plt.figure()\n",
    "ax = sns.countplot(df.DEAD, hue = df.INMSUPR)\n",
    "for bars in ax.containers:\n",
    "    ax.bar_label(bars)\n",
    "plt.title(\"Is Immunosuppressed vs Is Dead\",color=\"BLACK\")"
   ]
  },
  {
   "cell_type": "code",
   "execution_count": 71,
   "id": "401539f3",
   "metadata": {},
   "outputs": [
    {
     "data": {
      "text/html": [
       "<div>\n",
       "<style scoped>\n",
       "    .dataframe tbody tr th:only-of-type {\n",
       "        vertical-align: middle;\n",
       "    }\n",
       "\n",
       "    .dataframe tbody tr th {\n",
       "        vertical-align: top;\n",
       "    }\n",
       "\n",
       "    .dataframe thead th {\n",
       "        text-align: right;\n",
       "    }\n",
       "</style>\n",
       "<table border=\"1\" class=\"dataframe\">\n",
       "  <thead>\n",
       "    <tr style=\"text-align: right;\">\n",
       "      <th></th>\n",
       "      <th>USMER</th>\n",
       "      <th>MEDICAL_UNIT</th>\n",
       "      <th>PATIENT_TYPE</th>\n",
       "      <th>DATE_DIED</th>\n",
       "      <th>INTUBED</th>\n",
       "      <th>PNEUMONIA</th>\n",
       "      <th>AGE</th>\n",
       "      <th>DIABETES</th>\n",
       "      <th>COPD</th>\n",
       "      <th>HIPERTENSION</th>\n",
       "      <th>OTHER_DISEASE</th>\n",
       "      <th>OBESITY</th>\n",
       "      <th>RENAL_CHRONIC</th>\n",
       "      <th>CLASIFFICATION_FINAL</th>\n",
       "      <th>ICU</th>\n",
       "      <th>DEAD</th>\n",
       "    </tr>\n",
       "  </thead>\n",
       "  <tbody>\n",
       "    <tr>\n",
       "      <th>5</th>\n",
       "      <td>2</td>\n",
       "      <td>1</td>\n",
       "      <td>2</td>\n",
       "      <td>9999-99-99</td>\n",
       "      <td>2</td>\n",
       "      <td>1</td>\n",
       "      <td>40</td>\n",
       "      <td>2</td>\n",
       "      <td>2</td>\n",
       "      <td>2</td>\n",
       "      <td>2</td>\n",
       "      <td>2</td>\n",
       "      <td>2</td>\n",
       "      <td>3</td>\n",
       "      <td>2</td>\n",
       "      <td>2</td>\n",
       "    </tr>\n",
       "    <tr>\n",
       "      <th>8</th>\n",
       "      <td>2</td>\n",
       "      <td>1</td>\n",
       "      <td>2</td>\n",
       "      <td>9999-99-99</td>\n",
       "      <td>2</td>\n",
       "      <td>2</td>\n",
       "      <td>37</td>\n",
       "      <td>1</td>\n",
       "      <td>2</td>\n",
       "      <td>1</td>\n",
       "      <td>2</td>\n",
       "      <td>1</td>\n",
       "      <td>2</td>\n",
       "      <td>3</td>\n",
       "      <td>2</td>\n",
       "      <td>2</td>\n",
       "    </tr>\n",
       "    <tr>\n",
       "      <th>9</th>\n",
       "      <td>2</td>\n",
       "      <td>1</td>\n",
       "      <td>2</td>\n",
       "      <td>9999-99-99</td>\n",
       "      <td>2</td>\n",
       "      <td>2</td>\n",
       "      <td>25</td>\n",
       "      <td>2</td>\n",
       "      <td>2</td>\n",
       "      <td>2</td>\n",
       "      <td>2</td>\n",
       "      <td>2</td>\n",
       "      <td>2</td>\n",
       "      <td>3</td>\n",
       "      <td>2</td>\n",
       "      <td>2</td>\n",
       "    </tr>\n",
       "    <tr>\n",
       "      <th>16</th>\n",
       "      <td>2</td>\n",
       "      <td>1</td>\n",
       "      <td>2</td>\n",
       "      <td>9999-99-99</td>\n",
       "      <td>2</td>\n",
       "      <td>1</td>\n",
       "      <td>80</td>\n",
       "      <td>2</td>\n",
       "      <td>2</td>\n",
       "      <td>1</td>\n",
       "      <td>2</td>\n",
       "      <td>2</td>\n",
       "      <td>2</td>\n",
       "      <td>3</td>\n",
       "      <td>1</td>\n",
       "      <td>2</td>\n",
       "    </tr>\n",
       "    <tr>\n",
       "      <th>56</th>\n",
       "      <td>2</td>\n",
       "      <td>1</td>\n",
       "      <td>2</td>\n",
       "      <td>9999-99-99</td>\n",
       "      <td>1</td>\n",
       "      <td>1</td>\n",
       "      <td>58</td>\n",
       "      <td>2</td>\n",
       "      <td>2</td>\n",
       "      <td>1</td>\n",
       "      <td>2</td>\n",
       "      <td>1</td>\n",
       "      <td>2</td>\n",
       "      <td>7</td>\n",
       "      <td>1</td>\n",
       "      <td>2</td>\n",
       "    </tr>\n",
       "  </tbody>\n",
       "</table>\n",
       "</div>"
      ],
      "text/plain": [
       "    USMER  MEDICAL_UNIT  PATIENT_TYPE   DATE_DIED  INTUBED  PNEUMONIA  AGE  \\\n",
       "5       2             1             2  9999-99-99        2          1   40   \n",
       "8       2             1             2  9999-99-99        2          2   37   \n",
       "9       2             1             2  9999-99-99        2          2   25   \n",
       "16      2             1             2  9999-99-99        2          1   80   \n",
       "56      2             1             2  9999-99-99        1          1   58   \n",
       "\n",
       "    DIABETES  COPD  HIPERTENSION  OTHER_DISEASE  OBESITY  RENAL_CHRONIC  \\\n",
       "5          2     2             2              2        2              2   \n",
       "8          1     2             1              2        1              2   \n",
       "9          2     2             2              2        2              2   \n",
       "16         2     2             1              2        2              2   \n",
       "56         2     2             1              2        1              2   \n",
       "\n",
       "    CLASIFFICATION_FINAL  ICU  DEAD  \n",
       "5                      3    2     2  \n",
       "8                      3    2     2  \n",
       "9                      3    2     2  \n",
       "16                     3    1     2  \n",
       "56                     7    1     2  "
      ]
     },
     "execution_count": 71,
     "metadata": {},
     "output_type": "execute_result"
    }
   ],
   "source": [
    "# Won't include.\n",
    "df.head()"
   ]
  },
  {
   "cell_type": "code",
   "execution_count": null,
   "id": "cc5ce3c7",
   "metadata": {},
   "outputs": [],
   "source": [
    "# after analyzing which variables are important I need to remove the variables that aren't as important.\n",
    "# I want to drop; SEX, PREGNANT, ASTHMA, INMSUPR, TOBACCO, MEDICAL_UNIT, CLASSIFICATION_FINAL\n",
    "# Below is my new df with variables that I beleive have a strong enough correlation to determine risk."
   ]
  },
  {
   "cell_type": "code",
   "execution_count": 96,
   "id": "c6f05ca1",
   "metadata": {},
   "outputs": [],
   "source": [
    "new = df.filter(['USMER','PATIENT_TYPE', 'PNEUMONIA', 'DIABETES', 'HIPERTENSION','RENAL_CHRONIC', 'ICU', 'DEAD', 'COPD'], axis=1)\n",
    "\n"
   ]
  },
  {
   "cell_type": "code",
   "execution_count": 97,
   "id": "a5570c4f",
   "metadata": {},
   "outputs": [],
   "source": [
    "x = new.drop(columns=\"DEAD\")\n",
    "y = new[\"DEAD\"]"
   ]
  },
  {
   "cell_type": "code",
   "execution_count": null,
   "id": "ab56189a",
   "metadata": {},
   "outputs": [],
   "source": [
    "# splitting x and y into new training and test set with 80% of the data as training data and 20% as test"
   ]
  },
  {
   "cell_type": "code",
   "execution_count": 98,
   "id": "304d8e37",
   "metadata": {},
   "outputs": [
    {
     "name": "stdout",
     "output_type": "stream",
     "text": [
      "Train_x : (61517, 8)\n",
      "Test_x : (15380, 8)\n",
      "Train_y : (61517,)\n",
      "Test_y : (15380,)\n"
     ]
    }
   ],
   "source": [
    "from sklearn.model_selection import train_test_split\n",
    "train_x, test_x, train_y, test_y = train_test_split(x,y, test_size=0.2, random_state=42)\n",
    "print(\"Train_x :\",train_x.shape)\n",
    "print(\"Test_x :\",test_x.shape)\n",
    "print(\"Train_y :\",train_y.shape)\n",
    "print(\"Test_y :\",test_y.shape)"
   ]
  },
  {
   "cell_type": "code",
   "execution_count": 99,
   "id": "06b94c76",
   "metadata": {},
   "outputs": [
    {
     "name": "stdout",
     "output_type": "stream",
     "text": [
      "Logistic Regression Accuracy : 0.687256176853056\n"
     ]
    }
   ],
   "source": [
    "from sklearn.linear_model import LogisticRegression\n",
    "\n",
    "logreg = LogisticRegression()\n",
    "logreg.fit(train_x,train_y)\n",
    "print(\"Logistic Regression Accuracy :\",logreg.score(test_x, test_y))"
   ]
  },
  {
   "cell_type": "code",
   "execution_count": null,
   "id": "85dd8542",
   "metadata": {},
   "outputs": [],
   "source": [
    "#The model has almost a 69% accuracy which is not very good but would technically still be much better than just flipping a coin and guessing whether a\n",
    "# patient was at high or low risk. I think the reason for why it has a lower accuracy than desired is because\n",
    "# I need to find a way to put more emphasis or value for certain variables than others. For example diabetes has\n",
    "# a much larger impact than Chronic obstructive pulmonary disease but that in particular isn't being emphasized more so in the model."
   ]
  },
  {
   "cell_type": "code",
   "execution_count": 106,
   "id": "6850fda3",
   "metadata": {},
   "outputs": [
    {
     "data": {
      "image/png": "[encoded data removed]",
      "text/plain": [
       "<Figure size 432x288 with 2 Axes>"
      ]
     },
     "metadata": {
      "needs_background": "light"
     },
     "output_type": "display_data"
    }
   ],
   "source": [
    "from sklearn.metrics import confusion_matrix\n",
    "\n",
    "sns.heatmap(confusion_matrix(test_y, logreg.predict(test_x)), annot=True, fmt=\".0f\")\n",
    "plt.title(\"Log_Reg Confusion Matrix\",fontsize=15, color=\"black\")"
   ]
  },
  {
   "cell_type": "code",
   "execution_count": null,
   "id": "a61839a5",
   "metadata": {},
   "outputs": [],
   "source": [
    "# As seen from the confusion matrix output the True Negative square in the bottom right is performing very well at classifying correctly\n",
    "# for samples from the negative class, but the TP and FN blocks are not performing as well. As you can see the correct classifications are on the \n",
    "# diagonal from top left to bottom right and that figure is 10,570 while the other diagonal for incorrect classifications is 4,810. So clearly the \n",
    "# model is atleast classifying correctly more often than incorrectly."
   ]
  },
  {
   "cell_type": "code",
   "execution_count": 138,
   "id": "15d898f2",
   "metadata": {},
   "outputs": [
    {
     "data": {
      "image/png": "[encoded data removed]",
      "text/plain": [
       "<Figure size 432x288 with 1 Axes>"
      ]
     },
     "metadata": {
      "needs_background": "light"
     },
     "output_type": "display_data"
    }
   ],
   "source": [
    "from sklearn import metrics\n",
    "\n",
    "log_regression = LogisticRegression()\n",
    "log_regression.fit(train_x,train_y)\n",
    "\n",
    "\n",
    "y_pred_proba = log_regression.predict_proba(test_x)[::,1]\n",
    "fpr, tpr, _ = metrics.roc_curve(test_y,  y_pred_proba)\n",
    "#create ROC curve\n",
    "plt.plot(fpr,tpr)\n",
    "plt.ylabel('True Positive Rate')\n",
    "plt.xlabel('False Positive Rate')\n",
    "plt.show()\n"
   ]
  },
  {
   "cell_type": "code",
   "execution_count": null,
   "id": "d40d5ddd",
   "metadata": {},
   "outputs": [],
   "source": [
    "# Im not sure if you can see the curve or not but it shows and then I'll rerun the code block and then it diseappears. It looks like a curve from the bottom \n",
    "# left to the top right and is curving towards the top left of the graph, which is good but it should be going towards the top left corner more\n",
    "# than it is. I would then calculate the area under the curve and hopefully it would be close to 1 since the closer to 1 the better and more accurate."
   ]
  },
  {
   "cell_type": "code",
   "execution_count": null,
   "id": "f94dd789",
   "metadata": {},
   "outputs": [],
   "source": [
    "# In conclusion if I had more time I would look deeper into the relationships between\n",
    "# the variables and try and find a better way to compare the variables then just looking\n",
    "# at how certain variables compare to the is dead variable. I would also try and find a way to \n",
    "# make certain variables carry more weight than others depending on how much that variable is affecting the\n",
    "# patients risk on its own."
   ]
  }
 ],
 "metadata": {
  "kernelspec": {
   "display_name": "Python 3.9.12 ('base')",
   "language": "python",
   "name": "python3"
  },
  "language_info": {
   "codemirror_mode": {
    "name": "ipython",
    "version": 3
   },
   "file_extension": ".py",
   "mimetype": "text/x-python",
   "name": "python",
   "nbconvert_exporter": "python",
   "pygments_lexer": "ipython3",
   "version": "3.9.12"
  },
  "vscode": {
   "interpreter": {
    "hash": "9b52aabeb46064483a5f8e6365d564894abf708f8ed3a9662a7e0aac26d7e6c1"
   }
  }
 },
 "nbformat": 4,
 "nbformat_minor": 5
}
